{
  "nbformat": 4,
  "nbformat_minor": 0,
  "metadata": {
    "colab": {
      "name": "FastAI 1.0.50.ipynb",
      "version": "0.3.2",
      "provenance": [],
      "collapsed_sections": [],
      "toc_visible": true,
      "include_colab_link": true
    },
    "kernelspec": {
      "name": "python3",
      "display_name": "Python 3"
    },
    "accelerator": "GPU"
  },
  "cells": [
    {
      "cell_type": "markdown",
      "metadata": {
        "id": "view-in-github",
        "colab_type": "text"
      },
      "source": [
        "<a href=\"https://colab.research.google.com/github/ameasure/ACL_tool_analysis/blob/master/FastAI_1_0_50.ipynb\" target=\"_parent\"><img src=\"https://colab.research.google.com/assets/colab-badge.svg\" alt=\"Open In Colab\"/></a>"
      ]
    },
    {
      "cell_type": "markdown",
      "metadata": {
        "id": "QTdgGEgVmAlr",
        "colab_type": "text"
      },
      "source": [
        "# Download the Libraries and Data\n",
        "\n",
        "1.   pytorch (a library for building neural networks)\n",
        "2.   fastai (a library built on top of pytorch)\n",
        "3.   spacy english language model\n",
        "4.   msha.xlsx data (the MSHA data we will classify)\n",
        "5.   xlrd (a library for reading excel files)"
      ]
    },
    {
      "cell_type": "code",
      "metadata": {
        "id": "JK1APVYEkNnF",
        "colab_type": "code",
        "outputId": "643d6d9b-a17b-45e2-a989-7e260232b85e",
        "colab": {
          "base_uri": "https://localhost:8080/",
          "height": 1230
        }
      },
      "source": [
        "#!pip install torch_nightly -f https://download.pytorch.org/whl/nightly/cu92/torch_nightly.html\n",
        "#!pip install fastai\n",
        "!python -m spacy download en\n",
        "!wget --no-clobber 'https://github.com/ameasure/autocoding-class/raw/master/msha.xlsx'\n",
        "!pip install xlrd"
      ],
      "execution_count": 1,
      "outputs": [
        {
          "output_type": "stream",
          "text": [
            "Looking in links: https://download.pytorch.org/whl/nightly/cu92/torch_nightly.html\n",
            "Collecting torch_nightly\n",
            "\u001b[?25l  Downloading https://download.pytorch.org/whl/nightly/cu92/torch_nightly-1.0.0.dev20181206-cp36-cp36m-linux_x86_64.whl (576.2MB)\n",
            "\u001b[K     |████████████                    | 218.0MB 2.3MB/s eta 0:02:40\n",
            "\u001b[31mERROR: Operation cancelled by user\u001b[0m\n",
            "\u001b[?25hRequirement already satisfied: fastai in /usr/local/lib/python3.6/dist-packages (1.0.52)\n",
            "Requirement already satisfied: spacy>=2.0.18 in /usr/local/lib/python3.6/dist-packages (from fastai) (2.1.4)\n",
            "Requirement already satisfied: pyyaml in /usr/local/lib/python3.6/dist-packages (from fastai) (3.13)\n",
            "Requirement already satisfied: packaging in /usr/local/lib/python3.6/dist-packages (from fastai) (19.0)\n",
            "Requirement already satisfied: numpy>=1.15 in /usr/local/lib/python3.6/dist-packages (from fastai) (1.16.4)\n",
            "Requirement already satisfied: bottleneck in /usr/local/lib/python3.6/dist-packages (from fastai) (1.2.1)\n",
            "Requirement already satisfied: fastprogress>=0.1.19 in /usr/local/lib/python3.6/dist-packages (from fastai) (0.1.21)\n",
            "Requirement already satisfied: nvidia-ml-py3 in /usr/local/lib/python3.6/dist-packages (from fastai) (7.352.0)\n",
            "Requirement already satisfied: torch>=1.0.0 in /usr/local/lib/python3.6/dist-packages (from fastai) (1.1.0)\n",
            "Requirement already satisfied: matplotlib in /usr/local/lib/python3.6/dist-packages (from fastai) (3.0.3)\n",
            "Requirement already satisfied: dataclasses; python_version < \"3.7\" in /usr/local/lib/python3.6/dist-packages (from fastai) (0.6)\n",
            "Requirement already satisfied: numexpr in /usr/local/lib/python3.6/dist-packages (from fastai) (2.6.9)\n",
            "Requirement already satisfied: typing in /usr/local/lib/python3.6/dist-packages (from fastai) (3.6.6)\n",
            "Requirement already satisfied: torchvision in /usr/local/lib/python3.6/dist-packages (from fastai) (0.3.0)\n",
            "Requirement already satisfied: scipy in /usr/local/lib/python3.6/dist-packages (from fastai) (1.3.0)\n",
            "Requirement already satisfied: beautifulsoup4 in /usr/local/lib/python3.6/dist-packages (from fastai) (4.6.3)\n",
            "Requirement already satisfied: requests in /usr/local/lib/python3.6/dist-packages (from fastai) (2.21.0)\n",
            "Requirement already satisfied: pandas in /usr/local/lib/python3.6/dist-packages (from fastai) (0.24.2)\n",
            "Requirement already satisfied: Pillow in /usr/local/lib/python3.6/dist-packages (from fastai) (4.3.0)\n",
            "Requirement already satisfied: wasabi<1.1.0,>=0.2.0 in /usr/local/lib/python3.6/dist-packages (from spacy>=2.0.18->fastai) (0.2.2)\n",
            "Requirement already satisfied: jsonschema<3.1.0,>=2.6.0 in /usr/local/lib/python3.6/dist-packages (from spacy>=2.0.18->fastai) (2.6.0)\n",
            "Requirement already satisfied: cymem<2.1.0,>=2.0.2 in /usr/local/lib/python3.6/dist-packages (from spacy>=2.0.18->fastai) (2.0.2)\n",
            "Requirement already satisfied: murmurhash<1.1.0,>=0.28.0 in /usr/local/lib/python3.6/dist-packages (from spacy>=2.0.18->fastai) (1.0.2)\n",
            "Requirement already satisfied: thinc<7.1.0,>=7.0.2 in /usr/local/lib/python3.6/dist-packages (from spacy>=2.0.18->fastai) (7.0.4)\n",
            "Requirement already satisfied: blis<0.3.0,>=0.2.2 in /usr/local/lib/python3.6/dist-packages (from spacy>=2.0.18->fastai) (0.2.4)\n",
            "Requirement already satisfied: preshed<2.1.0,>=2.0.1 in /usr/local/lib/python3.6/dist-packages (from spacy>=2.0.18->fastai) (2.0.1)\n",
            "Requirement already satisfied: srsly<1.1.0,>=0.0.5 in /usr/local/lib/python3.6/dist-packages (from spacy>=2.0.18->fastai) (0.0.5)\n",
            "Requirement already satisfied: plac<1.0.0,>=0.9.6 in /usr/local/lib/python3.6/dist-packages (from spacy>=2.0.18->fastai) (0.9.6)\n",
            "Requirement already satisfied: six in /usr/local/lib/python3.6/dist-packages (from packaging->fastai) (1.12.0)\n",
            "Requirement already satisfied: pyparsing>=2.0.2 in /usr/local/lib/python3.6/dist-packages (from packaging->fastai) (2.4.0)\n",
            "Requirement already satisfied: kiwisolver>=1.0.1 in /usr/local/lib/python3.6/dist-packages (from matplotlib->fastai) (1.1.0)\n",
            "Requirement already satisfied: python-dateutil>=2.1 in /usr/local/lib/python3.6/dist-packages (from matplotlib->fastai) (2.5.3)\n",
            "Requirement already satisfied: cycler>=0.10 in /usr/local/lib/python3.6/dist-packages (from matplotlib->fastai) (0.10.0)\n",
            "Requirement already satisfied: urllib3<1.25,>=1.21.1 in /usr/local/lib/python3.6/dist-packages (from requests->fastai) (1.24.3)\n",
            "Requirement already satisfied: chardet<3.1.0,>=3.0.2 in /usr/local/lib/python3.6/dist-packages (from requests->fastai) (3.0.4)\n",
            "Requirement already satisfied: idna<2.9,>=2.5 in /usr/local/lib/python3.6/dist-packages (from requests->fastai) (2.8)\n",
            "Requirement already satisfied: certifi>=2017.4.17 in /usr/local/lib/python3.6/dist-packages (from requests->fastai) (2019.3.9)\n",
            "Requirement already satisfied: pytz>=2011k in /usr/local/lib/python3.6/dist-packages (from pandas->fastai) (2018.9)\n",
            "Requirement already satisfied: olefile in /usr/local/lib/python3.6/dist-packages (from Pillow->fastai) (0.46)\n",
            "Requirement already satisfied: tqdm<5.0.0,>=4.10.0 in /usr/local/lib/python3.6/dist-packages (from thinc<7.1.0,>=7.0.2->spacy>=2.0.18->fastai) (4.28.1)\n",
            "Requirement already satisfied: setuptools in /usr/local/lib/python3.6/dist-packages (from kiwisolver>=1.0.1->matplotlib->fastai) (41.0.1)\n",
            "Requirement already satisfied: en_core_web_sm==2.1.0 from https://github.com/explosion/spacy-models/releases/download/en_core_web_sm-2.1.0/en_core_web_sm-2.1.0.tar.gz#egg=en_core_web_sm==2.1.0 in /usr/local/lib/python3.6/dist-packages (2.1.0)\n",
            "\u001b[38;5;2m✔ Download and installation successful\u001b[0m\n",
            "You can now load the model via spacy.load('en_core_web_sm')\n",
            "\u001b[38;5;2m✔ Linking successful\u001b[0m\n",
            "/usr/local/lib/python3.6/dist-packages/en_core_web_sm -->\n",
            "/usr/local/lib/python3.6/dist-packages/spacy/data/en\n",
            "You can now load the model via spacy.load('en')\n",
            "^C\n",
            "--2019-06-12 20:36:39--  https://github.com/ameasure/autocoding-class/raw/master/msha.xlsx\n",
            "Resolving github.com (github.com)... 13.250.177.223\n",
            "Connecting to github.com (github.com)|13.250.177.223|:443... connected.\n",
            "HTTP request sent, awaiting response... 302 Found\n",
            "Location: https://raw.githubusercontent.com/ameasure/autocoding-class/master/msha.xlsx [following]\n",
            "--2019-06-12 20:36:40--  https://raw.githubusercontent.com/ameasure/autocoding-class/master/msha.xlsx\n",
            "Resolving raw.githubusercontent.com (raw.githubusercontent.com)... 151.101.0.133, 151.101.64.133, 151.101.128.133, ...\n",
            "Connecting to raw.githubusercontent.com (raw.githubusercontent.com)|151.101.0.133|:443... connected.\n",
            "HTTP request sent, awaiting response... 200 OK\n",
            "Length: 4183086 (4.0M) [application/octet-stream]\n",
            "Saving to: ‘msha.xlsx’\n",
            "\n",
            "msha.xlsx           100%[===================>]   3.99M  --.-KB/s    in 0.04s   \n",
            "\n",
            "2019-06-12 20:36:41 (93.6 MB/s) - ‘msha.xlsx’ saved [4183086/4183086]\n",
            "\n",
            "Requirement already satisfied: xlrd in /usr/local/lib/python3.6/dist-packages (1.1.0)\n"
          ],
          "name": "stdout"
        }
      ]
    },
    {
      "cell_type": "markdown",
      "metadata": {
        "id": "LCq4Q-iWG3yJ",
        "colab_type": "text"
      },
      "source": [
        "# Split the MSHA Data into Training and Validation"
      ]
    },
    {
      "cell_type": "code",
      "metadata": {
        "id": "9sjjSQydkROH",
        "colab_type": "code",
        "outputId": "6bddc738-b4f8-4c14-d6ad-68c3e72ea174",
        "colab": {
          "base_uri": "https://localhost:8080/",
          "height": 50
        }
      },
      "source": [
        "import pandas as pd\n",
        "\n",
        "df = pd.read_excel('msha.xlsx')\n",
        "df['ACCIDENT_YEAR'] = df['ACCIDENT_DT'].apply(lambda x: x.year)\n",
        "df['ACCIDENT_YEAR'].value_counts()\n",
        "df_train = df[df['ACCIDENT_YEAR'].isin([2010, 2011])].copy()\n",
        "df_valid = df[df['ACCIDENT_YEAR'] == 2012].copy()\n",
        "print('training rows:', len(df_train))\n",
        "print('validation rows:', len(df_valid))"
      ],
      "execution_count": 2,
      "outputs": [
        {
          "output_type": "stream",
          "text": [
            "training rows: 18681\n",
            "validation rows: 9032\n"
          ],
          "name": "stdout"
        }
      ]
    },
    {
      "cell_type": "markdown",
      "metadata": {
        "id": "JQ9v31Z1i2Uv",
        "colab_type": "text"
      },
      "source": [
        "Convert the labels to 1-hot arrays."
      ]
    },
    {
      "cell_type": "code",
      "metadata": {
        "id": "Ee_Z2Yasdcwp",
        "colab_type": "code",
        "colab": {}
      },
      "source": [
        "from sklearn.preprocessing import LabelEncoder\n",
        "\n",
        "labeler = LabelEncoder().fit(df['INJ_BODY_PART'])\n",
        "df_train['LABEL'] = labeler.transform(df_train['INJ_BODY_PART'])\n",
        "df_valid['LABEL'] = labeler.transform(df_valid['INJ_BODY_PART'])"
      ],
      "execution_count": 0,
      "outputs": []
    },
    {
      "cell_type": "markdown",
      "metadata": {
        "id": "cqelKwbDnvxI",
        "colab_type": "text"
      },
      "source": [
        "# Recipe\n",
        "Now we will finetune a pretrained language model to build a state of the art text classifier. This involves the following steps:\n",
        "\n",
        "1.   Load the weights of a pre-trained language model, i.e. a model trained to predict the next word in a sequence of words on a huge collection of text. We don't want to do this pretraining ourselves because it takes a long time of time.\n",
        "2.   Finetune the language model to some of the language data in our dataset. This can include all the data currently available since this is an unsupervised process, i.e. the model only sees the text we are working with, not the codes that were assigned.\n",
        "3.   Remove the output layer of our language model and put a classifier layer on top.\n",
        "4.   Finetune the new model to our classification task.\n",
        "\n",
        "Each finetune step consists of 5 smaller steps:\n",
        "1. Unfreeze only the last layer.\n",
        "2. Find a good learning rate.\n",
        "3. Train the last layer for one epoch (to get a better missing-word embedding vector)\n",
        "4. Unfreeze the rest of the layers\n",
        "5. Train the rest of the layers, normally with lower learning rates than the last layer\n",
        "\n",
        "\n"
      ]
    },
    {
      "cell_type": "markdown",
      "metadata": {
        "id": "lbsCuF0CouRZ",
        "colab_type": "text"
      },
      "source": [
        "# Load the pretrained model weights\n",
        "\n",
        "First we create a directory called 'models', and save the weights there."
      ]
    },
    {
      "cell_type": "code",
      "metadata": {
        "id": "6mRoOz9zkgVd",
        "colab_type": "code",
        "colab": {}
      },
      "source": [
        "import os\n",
        "\n",
        "if not os.path.exists('models'):\n",
        "  os.mkdir('models')"
      ],
      "execution_count": 0,
      "outputs": []
    },
    {
      "cell_type": "markdown",
      "metadata": {
        "id": "d8GwdwlIqkuW",
        "colab_type": "text"
      },
      "source": [
        "Download the pretrained models"
      ]
    },
    {
      "cell_type": "code",
      "metadata": {
        "id": "v6bHhrvji4c6",
        "colab_type": "code",
        "colab": {}
      },
      "source": [
        "from fastai.core import download_url\n",
        "\n",
        "download_url('http://files.fast.ai/models/wt103_v1/lstm_wt103.pth', 'models/lstm_wt103.pth')\n",
        "download_url('http://files.fast.ai/models/wt103_v1/itos_wt103.pkl', 'models/itos_wt103.pkl')"
      ],
      "execution_count": 0,
      "outputs": []
    },
    {
      "cell_type": "markdown",
      "metadata": {
        "id": "xBN9wfamk8mM",
        "colab_type": "text"
      },
      "source": [
        "Now we load the weights into our model and take a look"
      ]
    },
    {
      "cell_type": "code",
      "metadata": {
        "id": "K9LXALNPk7j9",
        "colab_type": "code",
        "colab": {
          "base_uri": "https://localhost:8080/",
          "height": 504
        },
        "outputId": "0cdc7336-ce09-4d68-f7c9-4e9382ec57ba"
      },
      "source": [
        "from fastai.text.learner import language_model_learner\n",
        "from fastai.text.models import AWD_LSTM\n",
        "\n",
        "language_model = language_model_learner(lm_data, \n",
        "                                        arch=AWD_LSTM,\n",
        "                                        pretrained_fnames=['lstm_wt103', 'itos_wt103'], \n",
        "                                        drop_mult=0.5)\n",
        "print(language_model.model)"
      ],
      "execution_count": 41,
      "outputs": [
        {
          "output_type": "stream",
          "text": [
            "SequentialRNN(\n",
            "  (0): AWD_LSTM(\n",
            "    (encoder): Embedding(7149, 400, padding_idx=1)\n",
            "    (encoder_dp): EmbeddingDropout(\n",
            "      (emb): Embedding(7149, 400, padding_idx=1)\n",
            "    )\n",
            "    (rnns): ModuleList(\n",
            "      (0): WeightDropout(\n",
            "        (module): LSTM(400, 1150, batch_first=True)\n",
            "      )\n",
            "      (1): WeightDropout(\n",
            "        (module): LSTM(1150, 1150, batch_first=True)\n",
            "      )\n",
            "      (2): WeightDropout(\n",
            "        (module): LSTM(1150, 400, batch_first=True)\n",
            "      )\n",
            "    )\n",
            "    (input_dp): RNNDropout()\n",
            "    (hidden_dps): ModuleList(\n",
            "      (0): RNNDropout()\n",
            "      (1): RNNDropout()\n",
            "      (2): RNNDropout()\n",
            "    )\n",
            "  )\n",
            "  (1): LinearDecoder(\n",
            "    (decoder): Linear(in_features=400, out_features=7149, bias=True)\n",
            "    (output_dp): RNNDropout()\n",
            "  )\n",
            ")\n"
          ],
          "name": "stdout"
        }
      ]
    },
    {
      "cell_type": "markdown",
      "metadata": {
        "id": "jK6Tvd_HlfTL",
        "colab_type": "text"
      },
      "source": [
        "As you can see, our model consists of five main layers:\n",
        "1. An embedding layer which maps 7148 word indexes to vectors\n",
        "2. An LSTM layer which maps 400 dim word vectors to 1150 dim contextual vectors\n",
        "3. A second LSTM layer operating on the output of the first LSTM\n",
        "4. A third LSTM layer operaton on the output of the second LSTM\n",
        "5. A linear output layer generating predicted probabilities for each of the 7148 words in our vocabulary."
      ]
    },
    {
      "cell_type": "markdown",
      "metadata": {
        "id": "o6pqyF6Xo3mB",
        "colab_type": "text"
      },
      "source": [
        "# Finetune the language model on some of our own text"
      ]
    },
    {
      "cell_type": "markdown",
      "metadata": {
        "id": "pxHlNqlBniuG",
        "colab_type": "text"
      },
      "source": [
        "We start by preparing a language model \"DataBunch\" from our CSV files. A \"DataBunch\" contains tokenized text that has been mapped to numbers, each representing a word in the text."
      ]
    },
    {
      "cell_type": "code",
      "metadata": {
        "id": "A34-tGqmmuic",
        "colab_type": "code",
        "colab": {}
      },
      "source": [
        "from fastai.text.data import TextLMDataBunch\n",
        "\n",
        "lm_data = TextLMDataBunch.from_df('./', \n",
        "                                  text_cols=['NARRATIVE'],\n",
        "                                  train_df=df_train,\n",
        "                                  valid_df=df_valid)"
      ],
      "execution_count": 0,
      "outputs": []
    },
    {
      "cell_type": "markdown",
      "metadata": {
        "id": "sNn0WWDVq2C6",
        "colab_type": "text"
      },
      "source": [
        "Now we load the model and finetune it to on our data."
      ]
    },
    {
      "cell_type": "code",
      "metadata": {
        "id": "bAmxfUXmm4il",
        "colab_type": "code",
        "colab": {}
      },
      "source": [
        "from fastai.text.learner import language_model_learner\n",
        "from fastai.text.models import AWD_LSTM\n",
        "\n",
        "language_model = language_model_learner(lm_data, \n",
        "                                        arch=AWD_LSTM,\n",
        "                                        pretrained_fnames=['lstm_wt103', 'itos_wt103'], \n",
        "                                        drop_mult=0.5)"
      ],
      "execution_count": 0,
      "outputs": []
    },
    {
      "cell_type": "code",
      "metadata": {
        "id": "UMxYkKPmnyQ2",
        "colab_type": "code",
        "colab": {
          "base_uri": "https://localhost:8080/",
          "height": 300
        },
        "outputId": "de776ec6-d73d-45e4-93e3-a5ed7c573438"
      },
      "source": [
        "language_model.lr_find()\n",
        "language_model.recorder.plot()"
      ],
      "execution_count": 54,
      "outputs": [
        {
          "output_type": "display_data",
          "data": {
            "text/html": [
              ""
            ],
            "text/plain": [
              "<IPython.core.display.HTML object>"
            ]
          },
          "metadata": {
            "tags": []
          }
        },
        {
          "output_type": "stream",
          "text": [
            "LR Finder is complete, type {learner_name}.recorder.plot() to see the graph.\n"
          ],
          "name": "stdout"
        },
        {
          "output_type": "display_data",
          "data": {
            "image/png": "[encoded data removed]",
            "text/plain": [
              "<Figure size 432x288 with 1 Axes>"
            ]
          },
          "metadata": {
            "tags": []
          }
        }
      ]
    },
    {
      "cell_type": "code",
      "metadata": {
        "id": "yh7bZafUoby2",
        "colab_type": "code",
        "colab": {
          "base_uri": "https://localhost:8080/",
          "height": 77
        },
        "outputId": "c133eb75-7c27-48cb-bda6-724722fbac2e"
      },
      "source": [
        "language_model.freeze_to(-1)\n",
        "language_model.fit_one_cycle(cyc_len=1, max_lr=7e-1)\n"
      ],
      "execution_count": 56,
      "outputs": [
        {
          "output_type": "display_data",
          "data": {
            "text/html": [
              "<table border=\"1\" class=\"dataframe\">\n",
              "  <thead>\n",
              "    <tr style=\"text-align: left;\">\n",
              "      <th>epoch</th>\n",
              "      <th>train_loss</th>\n",
              "      <th>valid_loss</th>\n",
              "      <th>accuracy</th>\n",
              "      <th>time</th>\n",
              "    </tr>\n",
              "  </thead>\n",
              "  <tbody>\n",
              "    <tr>\n",
              "      <td>0</td>\n",
              "      <td>7.190481</td>\n",
              "      <td>5.611742</td>\n",
              "      <td>0.173723</td>\n",
              "      <td>00:43</td>\n",
              "    </tr>\n",
              "  </tbody>\n",
              "</table>"
            ],
            "text/plain": [
              "<IPython.core.display.HTML object>"
            ]
          },
          "metadata": {
            "tags": []
          }
        }
      ]
    },
    {
      "cell_type": "code",
      "metadata": {
        "id": "HzLYeJIilHgf",
        "colab_type": "code",
        "outputId": "47b2c16d-3705-43da-fb45-d2341885a940",
        "colab": {
          "base_uri": "https://localhost:8080/",
          "height": 195
        }
      },
      "source": [
        "language_model.unfreeze()\n",
        "language_model.fit_one_cycle(5, 1e-3)"
      ],
      "execution_count": 8,
      "outputs": [
        {
          "output_type": "display_data",
          "data": {
            "text/html": [
              "<table border=\"1\" class=\"dataframe\">\n",
              "  <thead>\n",
              "    <tr style=\"text-align: left;\">\n",
              "      <th>epoch</th>\n",
              "      <th>train_loss</th>\n",
              "      <th>valid_loss</th>\n",
              "      <th>accuracy</th>\n",
              "      <th>time</th>\n",
              "    </tr>\n",
              "  </thead>\n",
              "  <tbody>\n",
              "    <tr>\n",
              "      <td>0</td>\n",
              "      <td>3.537589</td>\n",
              "      <td>3.363298</td>\n",
              "      <td>0.360719</td>\n",
              "      <td>00:53</td>\n",
              "    </tr>\n",
              "    <tr>\n",
              "      <td>1</td>\n",
              "      <td>3.293390</td>\n",
              "      <td>3.181091</td>\n",
              "      <td>0.381548</td>\n",
              "      <td>00:52</td>\n",
              "    </tr>\n",
              "    <tr>\n",
              "      <td>2</td>\n",
              "      <td>3.150813</td>\n",
              "      <td>3.092407</td>\n",
              "      <td>0.391696</td>\n",
              "      <td>00:51</td>\n",
              "    </tr>\n",
              "    <tr>\n",
              "      <td>3</td>\n",
              "      <td>3.045129</td>\n",
              "      <td>3.056403</td>\n",
              "      <td>0.396010</td>\n",
              "      <td>00:52</td>\n",
              "    </tr>\n",
              "    <tr>\n",
              "      <td>4</td>\n",
              "      <td>3.004687</td>\n",
              "      <td>3.049335</td>\n",
              "      <td>0.397088</td>\n",
              "      <td>00:52</td>\n",
              "    </tr>\n",
              "  </tbody>\n",
              "</table>"
            ],
            "text/plain": [
              "<IPython.core.display.HTML object>"
            ]
          },
          "metadata": {
            "tags": []
          }
        }
      ]
    },
    {
      "cell_type": "code",
      "metadata": {
        "id": "cSyhmlxSnaiK",
        "colab_type": "code",
        "colab": {}
      },
      "source": [
        "language_model.save_encoder('ft_enc')"
      ],
      "execution_count": 0,
      "outputs": []
    },
    {
      "cell_type": "markdown",
      "metadata": {
        "id": "zDAnojKCpZpy",
        "colab_type": "text"
      },
      "source": [
        "# Fit the model to our classification task"
      ]
    },
    {
      "cell_type": "code",
      "metadata": {
        "id": "RofCrcDy8a3O",
        "colab_type": "code",
        "colab": {}
      },
      "source": [
        "#!wget --no-clobber https://www.dropbox.com/s/45i662vci7ja6vv/ft_enc.pth?dl=0\n",
        "#!mv ft_enc.pth?dl=0 models/ft_enc.pth"
      ],
      "execution_count": 0,
      "outputs": []
    },
    {
      "cell_type": "code",
      "metadata": {
        "id": "9IOcISaL1_hD",
        "colab_type": "code",
        "colab": {}
      },
      "source": [
        "from fastai.text import TextClasDataBunch\n",
        "\n",
        "data_clas = TextClasDataBunch.from_df('./', \n",
        "                                      train_df = df_train, \n",
        "                                      valid_df = df_valid,\n",
        "                                      text_cols=['NARRATIVE'],\n",
        "                                      label_cols=['LABEL'],\n",
        "                                      classes=sorted(df_train['LABEL'].unique()),\n",
        "                                      vocab=lm_data.train_ds.vocab)"
      ],
      "execution_count": 0,
      "outputs": []
    },
    {
      "cell_type": "code",
      "metadata": {
        "id": "AZo8xffM-gwj",
        "colab_type": "code",
        "outputId": "90c18709-c279-4c54-93de-69d744dab6d4",
        "colab": {
          "base_uri": "https://localhost:8080/",
          "height": 346
        }
      },
      "source": [
        "data_clas.show_batch()"
      ],
      "execution_count": 12,
      "outputs": [
        {
          "output_type": "display_data",
          "data": {
            "text/html": [
              "<table border=\"1\" class=\"dataframe\">\n",
              "  <thead>\n",
              "    <tr style=\"text-align: right;\">\n",
              "      <th>text</th>\n",
              "      <th>target</th>\n",
              "    </tr>\n",
              "  </thead>\n",
              "  <tbody>\n",
              "    <tr>\n",
              "      <td>xxbos xxup ee xxup was xxup removing xxup wheel xxup chocks w / l xxup hand xxup out xxup from xxup under l xxup front xxup wheel xxup of xxup truck . xxup as xxup he xxup pulled xxup rope &amp; xxup twisted xxup chocks xxup for xxup removal , xxup felt xxup pain xxup in xxup top xxup of l xxup hand . xxup ee xxup refused xxup medical</td>\n",
              "      <td>45</td>\n",
              "    </tr>\n",
              "    <tr>\n",
              "      <td>xxbos xxup employee xxup was xxup steam xxup cleaning a xxup radiator xxup of a xxup dozer . xxup employee xxup stopped xxup to xxup reposition xxup his xxup footing xxup and xxup then xxup activated xxup his xxup wand xxup spraying xxup himself xxup in xxup the xxup left xxup thumb xxup causing a xxup puncture xxup wound . xxup employee xxup was xxup taken xxup to xxup summersville</td>\n",
              "      <td>19</td>\n",
              "    </tr>\n",
              "    <tr>\n",
              "      <td>xxbos xxup after xxup employee xxup pulled a xxup core xxup tube xxup out xxup from xxup the xxup drill , xxup he xxup was xxup walking xxup over xxup to xxup unload xxup the xxup core xxup from xxup the xxup tube xxup at xxup the xxup tube xxup rack xxup and xxup he xxup tripped xxup on xxup the xxup helper xxup 's xxup deck xxup causing xxup</td>\n",
              "      <td>19</td>\n",
              "    </tr>\n",
              "    <tr>\n",
              "      <td>xxbos xxup employee xxup was xxup operating xxup scissor xxup lift # 8 , xxup he xxup needed xxup to xxup adjust xxup his xxup seat . xxup when xxup he xxup pulled xxup the xxup lever xxup to xxup adjust xxup his xxup seat xxup to xxup move xxup it xxup backwards xxup his xxup ring xxup finger xxup on xxup his xxup left xxup hand xxup got xxup</td>\n",
              "      <td>16</td>\n",
              "    </tr>\n",
              "    <tr>\n",
              "      <td>xxbos xxmaj on 11 / 17 , the xxup ee struck his head on an overhead structure . xxup ee reported the incident to mgmt on 11 / 18 . xxup ee was seen by the medical staff &amp; xxup rtw w / o restrictions . xxmaj on 11 / 25 , xxup ee reported to the medical facility complaining of dizziness , pain &amp; tingling in his left arm</td>\n",
              "      <td>31</td>\n",
              "    </tr>\n",
              "  </tbody>\n",
              "</table>"
            ],
            "text/plain": [
              "<IPython.core.display.HTML object>"
            ]
          },
          "metadata": {
            "tags": []
          }
        }
      ]
    },
    {
      "cell_type": "code",
      "metadata": {
        "id": "C7XsH-molWzb",
        "colab_type": "code",
        "colab": {}
      },
      "source": [
        "from fastai.text.learner import text_classifier_learner\n",
        "\n",
        "learn = text_classifier_learner(data_clas, arch=AWD_LSTM, drop_mult=0.5)\n",
        "learn.load_encoder('ft_enc')"
      ],
      "execution_count": 0,
      "outputs": []
    },
    {
      "cell_type": "markdown",
      "metadata": {
        "id": "ZCfMqQ_9E_Ki",
        "colab_type": "text"
      },
      "source": [
        "We can use the `lr_find()` tool to find a good learning rate to use. It shows how rapidly the loss changes at various learning rates. You want the learning rate that gives the steepest drop in loss. "
      ]
    },
    {
      "cell_type": "code",
      "metadata": {
        "id": "Aef_YCAxyhLx",
        "colab_type": "code",
        "outputId": "dec69dcc-ea36-499b-b845-ad59642fea2b",
        "colab": {
          "base_uri": "https://localhost:8080/",
          "height": 300
        }
      },
      "source": [
        "learn.lr_find()\n",
        "learn.recorder.plot()"
      ],
      "execution_count": 14,
      "outputs": [
        {
          "output_type": "display_data",
          "data": {
            "text/html": [
              ""
            ],
            "text/plain": [
              "<IPython.core.display.HTML object>"
            ]
          },
          "metadata": {
            "tags": []
          }
        },
        {
          "output_type": "stream",
          "text": [
            "LR Finder is complete, type {learner_name}.recorder.plot() to see the graph.\n"
          ],
          "name": "stdout"
        },
        {
          "output_type": "display_data",
          "data": {
            "image/png": "[encoded data removed]",
            "text/plain": [
              "<Figure size 432x288 with 1 Axes>"
            ]
          },
          "metadata": {
            "tags": []
          }
        }
      ]
    },
    {
      "cell_type": "markdown",
      "metadata": {
        "id": "_7Yh-Hu-FYyn",
        "colab_type": "text"
      },
      "source": [
        "We now fit our classifier to the data, first only the last layer, then unfreezing the lower layers until the whole model is being trained."
      ]
    },
    {
      "cell_type": "code",
      "metadata": {
        "id": "rDRIN3IAl27S",
        "colab_type": "code",
        "outputId": "8908d932-2e10-4391-cd87-d4e6dd282603",
        "colab": {
          "base_uri": "https://localhost:8080/",
          "height": 137
        }
      },
      "source": [
        "# Fit just the last layer of the model\n",
        "learn.fit_one_cycle(1, 1e-1)\n",
        "# Now unfreeze the last 2 layers and fit those\n",
        "learn.freeze_to(-2)\n",
        "learn.fit_one_cycle(1, slice(5e-3/2., 5e-3))"
      ],
      "execution_count": 15,
      "outputs": [
        {
          "output_type": "display_data",
          "data": {
            "text/html": [
              "<table border=\"1\" class=\"dataframe\">\n",
              "  <thead>\n",
              "    <tr style=\"text-align: left;\">\n",
              "      <th>epoch</th>\n",
              "      <th>train_loss</th>\n",
              "      <th>valid_loss</th>\n",
              "      <th>accuracy</th>\n",
              "      <th>time</th>\n",
              "    </tr>\n",
              "  </thead>\n",
              "  <tbody>\n",
              "    <tr>\n",
              "      <td>0</td>\n",
              "      <td>2.320218</td>\n",
              "      <td>1.963870</td>\n",
              "      <td>0.455492</td>\n",
              "      <td>00:25</td>\n",
              "    </tr>\n",
              "  </tbody>\n",
              "</table>"
            ],
            "text/plain": [
              "<IPython.core.display.HTML object>"
            ]
          },
          "metadata": {
            "tags": []
          }
        },
        {
          "output_type": "display_data",
          "data": {
            "text/html": [
              "<table border=\"1\" class=\"dataframe\">\n",
              "  <thead>\n",
              "    <tr style=\"text-align: left;\">\n",
              "      <th>epoch</th>\n",
              "      <th>train_loss</th>\n",
              "      <th>valid_loss</th>\n",
              "      <th>accuracy</th>\n",
              "      <th>time</th>\n",
              "    </tr>\n",
              "  </thead>\n",
              "  <tbody>\n",
              "    <tr>\n",
              "      <td>0</td>\n",
              "      <td>1.747584</td>\n",
              "      <td>1.480519</td>\n",
              "      <td>0.582595</td>\n",
              "      <td>00:32</td>\n",
              "    </tr>\n",
              "  </tbody>\n",
              "</table>"
            ],
            "text/plain": [
              "<IPython.core.display.HTML object>"
            ]
          },
          "metadata": {
            "tags": []
          }
        }
      ]
    },
    {
      "cell_type": "code",
      "metadata": {
        "id": "qR9SX5QSl59g",
        "colab_type": "code",
        "outputId": "7dedec85-cb64-49b0-92c9-9e12cb4c841c",
        "colab": {
          "base_uri": "https://localhost:8080/",
          "height": 77
        }
      },
      "source": [
        "learn.fit_one_cycle(1, slice(2e-3/100, 2e-3))"
      ],
      "execution_count": 16,
      "outputs": [
        {
          "output_type": "display_data",
          "data": {
            "text/html": [
              "<table border=\"1\" class=\"dataframe\">\n",
              "  <thead>\n",
              "    <tr style=\"text-align: left;\">\n",
              "      <th>epoch</th>\n",
              "      <th>train_loss</th>\n",
              "      <th>valid_loss</th>\n",
              "      <th>accuracy</th>\n",
              "      <th>time</th>\n",
              "    </tr>\n",
              "  </thead>\n",
              "  <tbody>\n",
              "    <tr>\n",
              "      <td>0</td>\n",
              "      <td>1.652349</td>\n",
              "      <td>1.367127</td>\n",
              "      <td>0.613043</td>\n",
              "      <td>00:32</td>\n",
              "    </tr>\n",
              "  </tbody>\n",
              "</table>"
            ],
            "text/plain": [
              "<IPython.core.display.HTML object>"
            ]
          },
          "metadata": {
            "tags": []
          }
        }
      ]
    },
    {
      "cell_type": "code",
      "metadata": {
        "id": "tQpgC1Rsl9KD",
        "colab_type": "code",
        "outputId": "a4a116d7-d622-45e2-fb94-eb2220b23b60",
        "colab": {
          "base_uri": "https://localhost:8080/",
          "height": 195
        }
      },
      "source": [
        "# Unfreeze all layers and fit these\n",
        "learn.unfreeze()\n",
        "learn.fit_one_cycle(5, slice(2e-3/100, 2e-3))"
      ],
      "execution_count": 17,
      "outputs": [
        {
          "output_type": "display_data",
          "data": {
            "text/html": [
              "<table border=\"1\" class=\"dataframe\">\n",
              "  <thead>\n",
              "    <tr style=\"text-align: left;\">\n",
              "      <th>epoch</th>\n",
              "      <th>train_loss</th>\n",
              "      <th>valid_loss</th>\n",
              "      <th>accuracy</th>\n",
              "      <th>time</th>\n",
              "    </tr>\n",
              "  </thead>\n",
              "  <tbody>\n",
              "    <tr>\n",
              "      <td>0</td>\n",
              "      <td>1.519569</td>\n",
              "      <td>1.226246</td>\n",
              "      <td>0.663308</td>\n",
              "      <td>00:51</td>\n",
              "    </tr>\n",
              "    <tr>\n",
              "      <td>1</td>\n",
              "      <td>1.304789</td>\n",
              "      <td>0.979625</td>\n",
              "      <td>0.729960</td>\n",
              "      <td>00:57</td>\n",
              "    </tr>\n",
              "    <tr>\n",
              "      <td>2</td>\n",
              "      <td>1.114360</td>\n",
              "      <td>0.876866</td>\n",
              "      <td>0.761072</td>\n",
              "      <td>00:58</td>\n",
              "    </tr>\n",
              "    <tr>\n",
              "      <td>3</td>\n",
              "      <td>1.066380</td>\n",
              "      <td>0.850161</td>\n",
              "      <td>0.774358</td>\n",
              "      <td>00:50</td>\n",
              "    </tr>\n",
              "    <tr>\n",
              "      <td>4</td>\n",
              "      <td>1.002598</td>\n",
              "      <td>0.830779</td>\n",
              "      <td>0.776129</td>\n",
              "      <td>00:53</td>\n",
              "    </tr>\n",
              "  </tbody>\n",
              "</table>"
            ],
            "text/plain": [
              "<IPython.core.display.HTML object>"
            ]
          },
          "metadata": {
            "tags": []
          }
        }
      ]
    },
    {
      "cell_type": "code",
      "metadata": {
        "id": "VNwlyJT93gIu",
        "colab_type": "code",
        "outputId": "de5f50c8-e8fc-4639-e07f-84c4192cdb49",
        "colab": {
          "base_uri": "https://localhost:8080/",
          "height": 195
        }
      },
      "source": [
        "learn.fit_one_cycle(5, slice(2e-3/100, 2e-3))"
      ],
      "execution_count": 18,
      "outputs": [
        {
          "output_type": "display_data",
          "data": {
            "text/html": [
              "<table border=\"1\" class=\"dataframe\">\n",
              "  <thead>\n",
              "    <tr style=\"text-align: left;\">\n",
              "      <th>epoch</th>\n",
              "      <th>train_loss</th>\n",
              "      <th>valid_loss</th>\n",
              "      <th>accuracy</th>\n",
              "      <th>time</th>\n",
              "    </tr>\n",
              "  </thead>\n",
              "  <tbody>\n",
              "    <tr>\n",
              "      <td>0</td>\n",
              "      <td>1.000564</td>\n",
              "      <td>0.827363</td>\n",
              "      <td>0.779340</td>\n",
              "      <td>00:58</td>\n",
              "    </tr>\n",
              "    <tr>\n",
              "      <td>1</td>\n",
              "      <td>0.947996</td>\n",
              "      <td>0.786272</td>\n",
              "      <td>0.792516</td>\n",
              "      <td>00:50</td>\n",
              "    </tr>\n",
              "    <tr>\n",
              "      <td>2</td>\n",
              "      <td>0.893557</td>\n",
              "      <td>0.766798</td>\n",
              "      <td>0.797276</td>\n",
              "      <td>00:55</td>\n",
              "    </tr>\n",
              "    <tr>\n",
              "      <td>3</td>\n",
              "      <td>0.863382</td>\n",
              "      <td>0.757774</td>\n",
              "      <td>0.799823</td>\n",
              "      <td>00:59</td>\n",
              "    </tr>\n",
              "    <tr>\n",
              "      <td>4</td>\n",
              "      <td>0.855972</td>\n",
              "      <td>0.755832</td>\n",
              "      <td>0.799269</td>\n",
              "      <td>00:57</td>\n",
              "    </tr>\n",
              "  </tbody>\n",
              "</table>"
            ],
            "text/plain": [
              "<IPython.core.display.HTML object>"
            ]
          },
          "metadata": {
            "tags": []
          }
        }
      ]
    },
    {
      "cell_type": "code",
      "metadata": {
        "id": "Qlz5lhAkkv1T",
        "colab_type": "code",
        "outputId": "4225d98a-9d10-48e3-d815-90e45bab3f0d",
        "colab": {
          "base_uri": "https://localhost:8080/",
          "height": 195
        }
      },
      "source": [
        "learn.fit_one_cycle(5, slice(2e-3/100, 2e-3))"
      ],
      "execution_count": 19,
      "outputs": [
        {
          "output_type": "display_data",
          "data": {
            "text/html": [
              "<table border=\"1\" class=\"dataframe\">\n",
              "  <thead>\n",
              "    <tr style=\"text-align: left;\">\n",
              "      <th>epoch</th>\n",
              "      <th>train_loss</th>\n",
              "      <th>valid_loss</th>\n",
              "      <th>accuracy</th>\n",
              "      <th>time</th>\n",
              "    </tr>\n",
              "  </thead>\n",
              "  <tbody>\n",
              "    <tr>\n",
              "      <td>0</td>\n",
              "      <td>0.825764</td>\n",
              "      <td>0.756128</td>\n",
              "      <td>0.800487</td>\n",
              "      <td>00:55</td>\n",
              "    </tr>\n",
              "    <tr>\n",
              "      <td>1</td>\n",
              "      <td>0.838366</td>\n",
              "      <td>0.753300</td>\n",
              "      <td>0.803144</td>\n",
              "      <td>00:49</td>\n",
              "    </tr>\n",
              "    <tr>\n",
              "      <td>2</td>\n",
              "      <td>0.773045</td>\n",
              "      <td>0.831841</td>\n",
              "      <td>0.805802</td>\n",
              "      <td>00:59</td>\n",
              "    </tr>\n",
              "    <tr>\n",
              "      <td>3</td>\n",
              "      <td>0.760684</td>\n",
              "      <td>0.745844</td>\n",
              "      <td>0.807352</td>\n",
              "      <td>00:58</td>\n",
              "    </tr>\n",
              "    <tr>\n",
              "      <td>4</td>\n",
              "      <td>0.734557</td>\n",
              "      <td>0.740475</td>\n",
              "      <td>0.808237</td>\n",
              "      <td>00:57</td>\n",
              "    </tr>\n",
              "  </tbody>\n",
              "</table>"
            ],
            "text/plain": [
              "<IPython.core.display.HTML object>"
            ]
          },
          "metadata": {
            "tags": []
          }
        }
      ]
    },
    {
      "cell_type": "code",
      "metadata": {
        "id": "ttDrC3G_fftZ",
        "colab_type": "code",
        "colab": {
          "base_uri": "https://localhost:8080/",
          "height": 300
        },
        "outputId": "b67456f0-567e-4dae-a548-77847d41a38a"
      },
      "source": [
        "learn.lr_find()\n",
        "learn.recorder.plot()"
      ],
      "execution_count": 26,
      "outputs": [
        {
          "output_type": "display_data",
          "data": {
            "text/html": [
              ""
            ],
            "text/plain": [
              "<IPython.core.display.HTML object>"
            ]
          },
          "metadata": {
            "tags": []
          }
        },
        {
          "output_type": "stream",
          "text": [
            "LR Finder is complete, type {learner_name}.recorder.plot() to see the graph.\n"
          ],
          "name": "stdout"
        },
        {
          "output_type": "display_data",
          "data": {
            "image/png": "[encoded data removed]",
            "text/plain": [
              "<Figure size 432x288 with 1 Axes>"
            ]
          },
          "metadata": {
            "tags": []
          }
        }
      ]
    },
    {
      "cell_type": "code",
      "metadata": {
        "id": "8LB3pITEh-DZ",
        "colab_type": "code",
        "colab": {
          "base_uri": "https://localhost:8080/",
          "height": 34
        },
        "outputId": "57364c58-3e51-43a4-9c27-68aca89520a7"
      },
      "source": [
        "len(learn.layer_groups)"
      ],
      "execution_count": 32,
      "outputs": [
        {
          "output_type": "execute_result",
          "data": {
            "text/plain": [
              "5"
            ]
          },
          "metadata": {
            "tags": []
          },
          "execution_count": 32
        }
      ]
    },
    {
      "cell_type": "markdown",
      "metadata": {
        "id": "oF8wgcFOGd_B",
        "colab_type": "text"
      },
      "source": [
        "# Useful References:\n",
        "\n",
        "*   [FastAI IMDB Notebook](https://github.com/fastai/fastai/blob/master/courses/dl2/imdb.ipynb)\n",
        "*   [FastAI Docs](https://docs.fast.ai/)\n",
        "\n",
        "\n"
      ]
    },
    {
      "cell_type": "code",
      "metadata": {
        "id": "ty41app1q4bI",
        "colab_type": "code",
        "colab": {}
      },
      "source": [
        ""
      ],
      "execution_count": 0,
      "outputs": []
    }
  ]
}